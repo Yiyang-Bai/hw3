{
 "cells": [
  {
   "cell_type": "code",
   "id": "initial_id",
   "metadata": {
    "collapsed": true,
    "ExecuteTime": {
     "end_time": "2025-03-13T17:10:46.255305Z",
     "start_time": "2025-03-13T17:10:46.241158Z"
    }
   },
   "source": [
    "import pandas as pd\n",
    "import os\n",
    "\n",
    "# Set the save directory to match your project folder\n",
    "save_path = os.path.join(os.getcwd(), \"SocialMediaAvg.csv\")\n",
    "\n",
    "# Load the dataset (Ensure 'socialMedia.csv' is in the same directory)\n",
    "df = pd.read_csv(\"socialMedia.csv\")\n",
    "\n",
    "# Convert 'Likes' column to numeric\n",
    "df[\"Likes\"] = pd.to_numeric(df[\"Likes\"], errors=\"coerce\")\n",
    "\n",
    "# Group by Platform & PostType and calculate the average Likes\n",
    "df_avg = df.groupby([\"Platform\", \"PostType\"])[\"Likes\"].mean().reset_index()\n",
    "\n",
    "# Round 'AvgLikes' to 2 decimal places\n",
    "df_avg[\"AvgLikes\"] = df_avg[\"Likes\"].round(2)\n",
    "\n",
    "# Save as CSV in the same directory as the website files\n",
    "df_avg[[\"Platform\", \"PostType\", \"AvgLikes\"]].to_csv(save_path, index=False)\n",
    "\n",
    "print(f\"✅ SocialMediaAvg.csv has been saved at: {save_path}\")\n"
   ],
   "outputs": [
    {
     "name": "stdout",
     "output_type": "stream",
     "text": [
      "✅ SocialMediaAvg.csv has been saved at: C:\\Users\\AAA\\Desktop\\DS4200\\HW3\\SocialMediaAvg.csv\n"
     ]
    }
   ],
   "execution_count": 2
  },
  {
   "metadata": {
    "ExecuteTime": {
     "end_time": "2025-03-13T17:17:15.899290Z",
     "start_time": "2025-03-13T17:17:15.886055Z"
    }
   },
   "cell_type": "code",
   "source": [
    "import pandas as pd\n",
    "import os\n",
    "\n",
    "# Set the file paths\n",
    "input_file = \"socialMedia.csv\"  # Ensure this file exists in your directory\n",
    "output_file = \"SocialMediaTime.csv\"\n",
    "\n",
    "# Load the dataset\n",
    "df = pd.read_csv(input_file)\n",
    "\n",
    "# Convert 'Likes' column to numeric\n",
    "df[\"Likes\"] = pd.to_numeric(df[\"Likes\"], errors=\"coerce\")\n",
    "\n",
    "# Ensure 'Date' is in datetime format with an explicit format (adjust if necessary)\n",
    "df[\"Date\"] = pd.to_datetime(df[\"Date\"], format=\"%m/%d/%Y\", errors=\"coerce\")  # Adjust format if needed\n",
    "\n",
    "# Group by Date and calculate the average Likes\n",
    "df_time = df.groupby(\"Date\")[\"Likes\"].mean().reset_index()\n",
    "\n",
    "# Round 'AvgLikes' to 6 decimal places\n",
    "df_time[\"AvgLikes\"] = df_time[\"Likes\"].round(6)\n",
    "\n",
    "# Convert 'Date' to the required format (e.g., \"3/1/2024 (Friday)\")\n",
    "df_time[\"Date\"] = df_time[\"Date\"].dt.strftime(\"%-m/%-d/%Y (%A)\")\n",
    "\n",
    "# Save as CSV in the same directory\n",
    "df_time[[\"Date\", \"AvgLikes\"]].to_csv(output_file, index=False)\n",
    "\n",
    "print(f\"✅ SocialMediaTime.csv has been saved at: {output_file}\")\n"
   ],
   "id": "8b957d66d8fc5f2c",
   "outputs": [
    {
     "name": "stdout",
     "output_type": "stream",
     "text": [
      "✅ SocialMediaTime.csv has been saved at: SocialMediaTime.csv\n"
     ]
    }
   ],
   "execution_count": 6
  },
  {
   "metadata": {
    "ExecuteTime": {
     "end_time": "2025-03-13T17:21:40.619853Z",
     "start_time": "2025-03-13T17:21:40.613432Z"
    }
   },
   "cell_type": "code",
   "source": "print(df.head())",
   "id": "dd372f221dbfaae9",
   "outputs": [
    {
     "name": "stdout",
     "output_type": "stream",
     "text": [
      "    Platform PostType                                       Post Content  \\\n",
      "0   LinkedIn    Video         Section admit on time section mission key.   \n",
      "1   LinkedIn    Image    Option resource street may north just economic.   \n",
      "2    Twitter     Link               Daughter reflect significant finish.   \n",
      "3   LinkedIn    Video              Them accept again physical poor wish.   \n",
      "4  Instagram    Video  Think way star question cold century general c...   \n",
      "\n",
      "   Post Timestamp Date Weekday Type      Time Time Periods  Likes  Comments  \\\n",
      "0  3/7/2024 23:49  NaT      Weekday  23:49:22        Night    624       351   \n",
      "1  3/7/2024 23:39  NaT      Weekday  23:39:46        Night    154       196   \n",
      "2  3/7/2024 23:19  NaT      Weekday  23:19:45        Night    708       495   \n",
      "3  3/7/2024 23:04  NaT      Weekday  23:04:39        Night     37       170   \n",
      "4  3/7/2024 22:52  NaT      Weekday  22:52:44        Night    629       145   \n",
      "\n",
      "   Shares  Impressions  Reach   Engagement Rate   Audience Age      Age Group  \n",
      "0     176         8842   2230              57.95            53  Senior Adults  \n",
      "1     184         7710   4827              32.88            57  Senior Adults  \n",
      "2      42         5667   3582              59.52            65  Senior Adults  \n",
      "3     108         4281   4178              25.87            59  Senior Adults  \n",
      "4     125         7353   4013              38.28            49  Senior Adults  \n"
     ]
    }
   ],
   "execution_count": 8
  },
  {
   "metadata": {
    "ExecuteTime": {
     "end_time": "2025-03-13T17:22:45.972784Z",
     "start_time": "2025-03-13T17:22:45.954052Z"
    }
   },
   "cell_type": "code",
   "source": [
    "import pandas as pd\n",
    "\n",
    "# Load the dataset (Ensure 'socialMedia.csv' exists in the same directory)\n",
    "df = pd.read_csv(\"socialMedia.csv\")\n",
    "\n",
    "# Convert 'Likes' column to numeric\n",
    "df[\"Likes\"] = pd.to_numeric(df[\"Likes\"], errors=\"coerce\")\n",
    "\n",
    "# Extract only the actual date part from the 'Date' column (before the parentheses)\n",
    "df[\"Date\"] = df[\"Date\"].str.extract(r\"(\\d+/\\d+/\\d+)\")\n",
    "\n",
    "# Convert 'Date' to datetime format\n",
    "df[\"Date\"] = pd.to_datetime(df[\"Date\"], format=\"%m/%d/%Y\", errors=\"coerce\")\n",
    "\n",
    "# Drop rows where Date could not be parsed\n",
    "df = df.dropna(subset=[\"Date\"])\n",
    "\n",
    "# Group by Date and calculate the average Likes\n",
    "df_time = df.groupby(\"Date\")[\"Likes\"].mean().reset_index()\n",
    "\n",
    "# Round 'AvgLikes' to 6 decimal places\n",
    "df_time[\"AvgLikes\"] = df_time[\"Likes\"].round(6)\n",
    "\n",
    "# Convert 'Date' to the required format (e.g., \"3/1/2024 (Friday)\")\n",
    "df_time[\"Date\"] = df_time[\"Date\"].dt.strftime(\"%-m/%-d/%Y (%A)\")\n",
    "\n",
    "# Save as CSV\n",
    "output_file = \"SocialMediaTime.csv\"\n",
    "df_time[[\"Date\", \"AvgLikes\"]].to_csv(output_file, index=False)\n",
    "\n",
    "print(f\"✅ SocialMediaTime.csv has been created successfully!\")\n"
   ],
   "id": "9de0432c59a1f50a",
   "outputs": [
    {
     "name": "stdout",
     "output_type": "stream",
     "text": [
      "✅ SocialMediaTime.csv has been created successfully!\n"
     ]
    }
   ],
   "execution_count": 9
  }
 ],
 "metadata": {
  "kernelspec": {
   "display_name": "Python 3",
   "language": "python",
   "name": "python3"
  },
  "language_info": {
   "codemirror_mode": {
    "name": "ipython",
    "version": 2
   },
   "file_extension": ".py",
   "mimetype": "text/x-python",
   "name": "python",
   "nbconvert_exporter": "python",
   "pygments_lexer": "ipython2",
   "version": "2.7.6"
  }
 },
 "nbformat": 4,
 "nbformat_minor": 5
}
